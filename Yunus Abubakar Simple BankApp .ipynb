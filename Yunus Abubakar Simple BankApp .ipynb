{
 "cells": [
  {
   "cell_type": "markdown",
   "id": "34113275",
   "metadata": {},
   "source": [
    "### Yunus Abubakar Inlämningsuppgift Ny"
   ]
  },
  {
   "cell_type": "code",
   "execution_count": 1,
   "id": "0426d477",
   "metadata": {},
   "outputs": [],
   "source": [
    "'''\n",
    "Create a class Account. It must have an account number and balance. It should\n",
    "have a function to change the balance by an amount, and a function for\n",
    "to retrieve the current balance.\n",
    "'''\n",
    "class Account:\n",
    "    def __init__(self, account_number, bal):\n",
    "        self.account_number = account_number\n",
    "        self.bal = bal\n",
    "\n",
    "    def change_balance(self, amount): #function to change the balance by an amount\n",
    "        self.bal += amount\n",
    "\n",
    "    def current_balance(self): #function to retrieve the current balance\n",
    "        return self.bal"
   ]
  },
  {
   "cell_type": "code",
   "execution_count": 2,
   "id": "aa161062",
   "metadata": {
    "scrolled": false
   },
   "outputs": [
    {
     "name": "stdout",
     "output_type": "stream",
     "text": [
      "Your Current Balance: 1000kr\n"
     ]
    }
   ],
   "source": [
    "# To add account number with Account Balance\n",
    "acc = Account(3111556897, 1000)\n",
    "print(f\"Your Current Balance: {acc.current_balance()}kr\")"
   ]
  },
  {
   "cell_type": "code",
   "execution_count": 3,
   "id": "749a50d9",
   "metadata": {},
   "outputs": [
    {
     "name": "stdout",
     "output_type": "stream",
     "text": [
      "New Balance after Depositing/Withdrawing is 1500kr\n"
     ]
    }
   ],
   "source": [
    "# To Update the current Account Balance with the amount change\n",
    "new_amount = acc.change_balance(500)\n",
    "print(f\"New Balance after Depositing/Withdrawing is {acc.current_balance()}kr\")"
   ]
  },
  {
   "cell_type": "code",
   "execution_count": 4,
   "id": "b9da1b0d",
   "metadata": {},
   "outputs": [],
   "source": [
    "'''\n",
    "Create a class Customer. It must have a username, password and a\n",
    "list of Accounts. A user can have many accounts. It should have one\n",
    "function to check whether a submitted password is correct, as well as some\n",
    "functions that the Bank uses. Like add_account, which should\n",
    "be in Bank, maybe should be in Customer and used\n",
    "'''\n",
    "class Customer:\n",
    "    def __init__(self, username, user_password):\n",
    "        self.username = username\n",
    "        self.user_password = user_password\n",
    "        self.list_of_accounts = [] #create an empyty list of accounts by a customer\n",
    "\n",
    "    def password_check(self, user_password): #function to check whether a submitted password is correct\n",
    "        return user_password == self.user_password\n",
    "\n",
    "    def add_accounts(self, account_number):\n",
    "        self.list_of_accounts.append(account_number) #add new accounts to a list of accounts by a customer"
   ]
  },
  {
   "cell_type": "code",
   "execution_count": 5,
   "id": "a71bd3be",
   "metadata": {},
   "outputs": [
    {
     "name": "stdout",
     "output_type": "stream",
     "text": [
      "Username: Akanbi Yunus\n",
      "Password Check (Correct Password): True\n",
      "Password Check (Incorrect Password): False\n"
     ]
    }
   ],
   "source": [
    "# To add a customer details with username and user password\n",
    "customer_detail = Customer(\"Akanbi Yunus\", \"12345\")\n",
    "print(\"Username:\", customer_detail.username)\n",
    "\n",
    "# Print True if password is correct else False if password not correct\n",
    "print(\"Password Check (Correct Password):\", customer_detail.password_check(\"12345\"))\n",
    "print(\"Password Check (Incorrect Password):\", customer_detail.password_check(\"1234\"))\n",
    "\n",
    "account1 = Account(\"1\", 500)\n",
    "customer_detail.add_accounts(account1.account_number) # To add new accounts to a list of accounts"
   ]
  },
  {
   "cell_type": "code",
   "execution_count": 6,
   "id": "82f161e4",
   "metadata": {},
   "outputs": [
    {
     "name": "stdout",
     "output_type": "stream",
     "text": [
      "['1']\n"
     ]
    }
   ],
   "source": [
    "# To Print list of Accounts\n",
    "print(customer_detail.list_of_accounts)"
   ]
  },
  {
   "cell_type": "code",
   "execution_count": 7,
   "id": "88097470",
   "metadata": {},
   "outputs": [],
   "source": [
    "'''\n",
    "Create a class Bank. It must have a list of Customer, as well as a variable\n",
    "which should contain the customer who is currently logged in. Some functions\n",
    "should only happen to the customer who is currently logged in.\n",
    "The bank must have a number of functions.\n",
    "'''\n",
    "class Bank:\n",
    "    def __init__(self):\n",
    "        self.list_of_customers = []\n",
    "        self.logged_in_customer = None\n",
    "\n",
    "    def get_customers(self): #List all customers.\n",
    "        return self.list_of_customers\n",
    "\n",
    "    def add_customer(self, username, user_password): #Add a new customer\n",
    "        customer = Customer(username, user_password)\n",
    "        self.list_of_customers.append(customer)\n",
    "        return customer\n",
    "\n",
    "    def get_customer(self, name): #Get a specific customer by username\n",
    "        for customer in self.list_of_customers:\n",
    "            if customer.username == name:\n",
    "                return customer\n",
    "        return None\n",
    "\n",
    "    def change_customer_password(self, username, new_password): #Change a customer's password.\n",
    "        customer = self.get_customer(username)\n",
    "        if customer:\n",
    "            customer.user_password = new_password\n",
    "            return True\n",
    "        return False\n",
    "\n",
    "    def remove_customer(self, username): #Remove a customer.\n",
    "        customer = self.get_customer(username)\n",
    "        if customer:\n",
    "            self.list_of_customers.remove(customer)\n",
    "            return True\n",
    "        return False\n",
    "\n",
    "    def login(self, username, user_password): \n",
    "        '''\n",
    "        If the password is correct, add it the customer from the list of customers as our new logged in customer.\n",
    "        '''\n",
    "        customer = self.get_customer(username)\n",
    "        if customer and customer.password_check(user_password):\n",
    "            self.logged_in_customer = customer\n",
    "            return True\n",
    "        return False\n",
    "\n",
    "    def logout(self): #Remove the current user from the logged in variable.\n",
    "        self.logged_in_customer = None\n",
    "        return True\n",
    "\n",
    "    def get_accounts(self): #Get all accounts belonging to the current user is logged in.\n",
    "        if self.logged_in_customer:\n",
    "            return self.logged_in_customer.list_of_accounts\n",
    "        return None\n",
    "\n",
    "    def add_account(self, account_number): #Add an account to the customer as just now logged in.\n",
    "        if self.logged_in_customer:\n",
    "            account = Account(account_number, 0)\n",
    "            self.logged_in_customer.add_accounts(account)\n",
    "            return account\n",
    "        return None\n",
    "\n",
    "    def remove_account(self, account_number): #Remove an account from the customer as currently logged in.\n",
    "        if self.logged_in_customer:\n",
    "            account = self.get_account(account_number)\n",
    "            if account:\n",
    "                self.logged_in_customer.list_of_accounts.remove(account)\n",
    "                return True\n",
    "        return False\n",
    "\n",
    "    def get_account(self, account_number): #Gets an account from the user who is currently logged in.\n",
    "        if self.logged_in_customer:\n",
    "            for account in self.logged_in_customer.list_of_accounts:\n",
    "                if account.account_number == account_number:\n",
    "                    return account\n",
    "        return None\n",
    "\n",
    "    def deposit(self, account_number, amount): #Add money to an account as the user has.\n",
    "        account = self.get_account(account_number)\n",
    "        if account:\n",
    "            new_account = account.change_balance(amount)\n",
    "            return new_account\n",
    "        return account\n",
    "\n",
    "    def withdraw(self, account_number, amount): #Withdraw funds from an account as the user has.\n",
    "        account = self.get_account(account_number)\n",
    "        if account and account.current_balance() >= amount:\n",
    "            new_balance = account.change_balance(-amount)\n",
    "            return new_balance\n",
    "        return account"
   ]
  },
  {
   "cell_type": "code",
   "execution_count": 8,
   "id": "728e631a",
   "metadata": {},
   "outputs": [],
   "source": [
    "# Create Bank instance\n",
    "bank = Bank()\n",
    "\n",
    "# Add a customer\n",
    "new_customer = bank.add_customer(\"Akanbi Yunus Yunus\", \"12345\")"
   ]
  },
  {
   "cell_type": "code",
   "execution_count": 9,
   "id": "9d888845",
   "metadata": {},
   "outputs": [],
   "source": [
    "# Log in as the customer\n",
    "login = bank.login(\"Akanbi Yunus Yunus\", \"12345\")"
   ]
  },
  {
   "cell_type": "code",
   "execution_count": 10,
   "id": "0a9a53b9",
   "metadata": {},
   "outputs": [
    {
     "name": "stdout",
     "output_type": "stream",
     "text": [
      "True\n"
     ]
    }
   ],
   "source": [
    "# Check if login was successful\n",
    "print(login)"
   ]
  },
  {
   "cell_type": "code",
   "execution_count": 11,
   "id": "b69eb287",
   "metadata": {
    "scrolled": true
   },
   "outputs": [
    {
     "data": {
      "text/plain": [
       "True"
      ]
     },
     "execution_count": 11,
     "metadata": {},
     "output_type": "execute_result"
    }
   ],
   "source": [
    "# To change Customer password\n",
    "bank.change_customer_password(\"Akanbi Yunus Yunus\", \"1235\")"
   ]
  },
  {
   "cell_type": "code",
   "execution_count": 12,
   "id": "8d05424b",
   "metadata": {},
   "outputs": [
    {
     "data": {
      "text/plain": [
       "'1235'"
      ]
     },
     "execution_count": 12,
     "metadata": {},
     "output_type": "execute_result"
    }
   ],
   "source": [
    "# To check if the password was change\n",
    "new_customer.user_password"
   ]
  },
  {
   "cell_type": "code",
   "execution_count": 13,
   "id": "84ce285f",
   "metadata": {},
   "outputs": [
    {
     "data": {
      "text/plain": [
       "'Akanbi Yunus Yunus'"
      ]
     },
     "execution_count": 13,
     "metadata": {},
     "output_type": "execute_result"
    }
   ],
   "source": [
    "# To get Customers with username\n",
    "bank.get_customer(\"Akanbi Yunus Yunus\")\n",
    "new_customer.username"
   ]
  },
  {
   "cell_type": "code",
   "execution_count": 14,
   "id": "65cbe042",
   "metadata": {},
   "outputs": [
    {
     "name": "stdout",
     "output_type": "stream",
     "text": [
      "Customer Removed Successfully\n"
     ]
    }
   ],
   "source": [
    "# To remove a customer with username\n",
    "new_customer = bank.remove_customer(\"Akanbi Yunus Yunus\")\n",
    "print(f\"Customer Removed Successfully\")"
   ]
  },
  {
   "cell_type": "code",
   "execution_count": 15,
   "id": "76495c28",
   "metadata": {},
   "outputs": [],
   "source": [
    "# add an account to the customer\n",
    "account = bank.add_account(3111556897)\n",
    "account3 = bank.add_account(1234567890)"
   ]
  },
  {
   "cell_type": "code",
   "execution_count": 16,
   "id": "c340f7d5",
   "metadata": {},
   "outputs": [
    {
     "data": {
      "text/plain": [
       "3111556897"
      ]
     },
     "execution_count": 16,
     "metadata": {},
     "output_type": "execute_result"
    }
   ],
   "source": [
    "account.account_number"
   ]
  },
  {
   "cell_type": "code",
   "execution_count": 17,
   "id": "c99e6fb2",
   "metadata": {},
   "outputs": [
    {
     "name": "stdout",
     "output_type": "stream",
     "text": [
      " Account Balance 0kr\n"
     ]
    }
   ],
   "source": [
    "# check the current balance\n",
    "print(f\" Account Balance {bank.get_account(3111556897).current_balance()}kr\")"
   ]
  },
  {
   "cell_type": "code",
   "execution_count": 18,
   "id": "8c8b1ce1",
   "metadata": {},
   "outputs": [
    {
     "name": "stdout",
     "output_type": "stream",
     "text": [
      " Balance after Deposit 200kr\n"
     ]
    }
   ],
   "source": [
    "# To deposit kr to the account\n",
    "bank.deposit(3111556897, 200)\n",
    "\n",
    "# To check the current balance\n",
    "print(f\" Balance after Deposit {bank.get_account(3111556897).current_balance()}kr\")\n"
   ]
  },
  {
   "cell_type": "code",
   "execution_count": 19,
   "id": "5bea314c",
   "metadata": {},
   "outputs": [
    {
     "name": "stdout",
     "output_type": "stream",
     "text": [
      " Balance after Withdrawal 150kr\n"
     ]
    }
   ],
   "source": [
    "# To withdraw kr from the account\n",
    "bank.withdraw(3111556897, 50)\n",
    "\n",
    "# check the current balance\n",
    "print(f\" Balance after Withdrawal {bank.get_account(3111556897).current_balance()}kr\")"
   ]
  },
  {
   "cell_type": "code",
   "execution_count": 20,
   "id": "f0c600df",
   "metadata": {},
   "outputs": [
    {
     "name": "stdout",
     "output_type": "stream",
     "text": [
      "Account number: 3111556897, balance: 150\n"
     ]
    }
   ],
   "source": [
    "# print all accounts from the user who is currently logged in\n",
    "account = bank.get_account(3111556897)\n",
    "print(f\"Account number: {account.account_number}, balance: {account.bal}\")"
   ]
  },
  {
   "cell_type": "code",
   "execution_count": 21,
   "id": "6e1e7ee6",
   "metadata": {},
   "outputs": [
    {
     "name": "stdout",
     "output_type": "stream",
     "text": [
      "Account number removed Successfully\n"
     ]
    }
   ],
   "source": [
    "# To remove an account number\n",
    "account = bank.remove_account(1234567890)\n",
    "print(f\"Account number removed Successfully\")"
   ]
  },
  {
   "cell_type": "code",
   "execution_count": 22,
   "id": "639db86b",
   "metadata": {},
   "outputs": [
    {
     "name": "stdout",
     "output_type": "stream",
     "text": [
      "<__main__.Account object at 0x00000146DAD7E520>\n"
     ]
    }
   ],
   "source": [
    "# print all accounts from the user who is currently logged out\n",
    "print(bank.get_account(3111556897))"
   ]
  },
  {
   "cell_type": "code",
   "execution_count": 23,
   "id": "ac7e378d",
   "metadata": {},
   "outputs": [
    {
     "name": "stdout",
     "output_type": "stream",
     "text": [
      "None\n"
     ]
    }
   ],
   "source": [
    "# log out the customer\n",
    "bank.logout()\n",
    "\n",
    "# check if the customer is logged in\n",
    "print(bank.logged_in_customer)"
   ]
  },
  {
   "cell_type": "code",
   "execution_count": null,
   "id": "bc314983",
   "metadata": {},
   "outputs": [],
   "source": []
  }
 ],
 "metadata": {
  "kernelspec": {
   "display_name": "Python 3 (ipykernel)",
   "language": "python",
   "name": "python3"
  },
  "language_info": {
   "codemirror_mode": {
    "name": "ipython",
    "version": 3
   },
   "file_extension": ".py",
   "mimetype": "text/x-python",
   "name": "python",
   "nbconvert_exporter": "python",
   "pygments_lexer": "ipython3",
   "version": "3.9.13"
  }
 },
 "nbformat": 4,
 "nbformat_minor": 5
}
